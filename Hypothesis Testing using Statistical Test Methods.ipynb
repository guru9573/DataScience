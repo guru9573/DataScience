{
 "cells": [
  {
   "cell_type": "code",
   "execution_count": 1,
   "metadata": {
    "colab": {},
    "colab_type": "code",
    "id": "SgU9Sb8sPBqU"
   },
   "outputs": [],
   "source": [
    "import numpy as np\n",
    "import pandas as pd"
   ]
  },
  {
   "cell_type": "code",
   "execution_count": 2,
   "metadata": {
    "colab": {},
    "colab_type": "code",
    "id": "TiGZK6QSPBqX"
   },
   "outputs": [],
   "source": [
    "data = pd.read_csv('50_Startups.csv')"
   ]
  },
  {
   "cell_type": "code",
   "execution_count": 3,
   "metadata": {},
   "outputs": [
    {
     "data": {
      "text/html": [
       "<div>\n",
       "<style scoped>\n",
       "    .dataframe tbody tr th:only-of-type {\n",
       "        vertical-align: middle;\n",
       "    }\n",
       "\n",
       "    .dataframe tbody tr th {\n",
       "        vertical-align: top;\n",
       "    }\n",
       "\n",
       "    .dataframe thead th {\n",
       "        text-align: right;\n",
       "    }\n",
       "</style>\n",
       "<table border=\"1\" class=\"dataframe\">\n",
       "  <thead>\n",
       "    <tr style=\"text-align: right;\">\n",
       "      <th></th>\n",
       "      <th>R&amp;D Spend</th>\n",
       "      <th>Administration</th>\n",
       "      <th>Marketing Spend</th>\n",
       "      <th>State</th>\n",
       "      <th>Profit</th>\n",
       "    </tr>\n",
       "  </thead>\n",
       "  <tbody>\n",
       "    <tr>\n",
       "      <th>0</th>\n",
       "      <td>165349.20</td>\n",
       "      <td>136897.80</td>\n",
       "      <td>471784.10</td>\n",
       "      <td>New York</td>\n",
       "      <td>192261.83</td>\n",
       "    </tr>\n",
       "    <tr>\n",
       "      <th>1</th>\n",
       "      <td>162597.70</td>\n",
       "      <td>151377.59</td>\n",
       "      <td>443898.53</td>\n",
       "      <td>California</td>\n",
       "      <td>191792.06</td>\n",
       "    </tr>\n",
       "    <tr>\n",
       "      <th>2</th>\n",
       "      <td>153441.51</td>\n",
       "      <td>101145.55</td>\n",
       "      <td>407934.54</td>\n",
       "      <td>Florida</td>\n",
       "      <td>191050.39</td>\n",
       "    </tr>\n",
       "    <tr>\n",
       "      <th>3</th>\n",
       "      <td>144372.41</td>\n",
       "      <td>118671.85</td>\n",
       "      <td>383199.62</td>\n",
       "      <td>New York</td>\n",
       "      <td>182901.99</td>\n",
       "    </tr>\n",
       "    <tr>\n",
       "      <th>4</th>\n",
       "      <td>142107.34</td>\n",
       "      <td>91391.77</td>\n",
       "      <td>366168.42</td>\n",
       "      <td>Florida</td>\n",
       "      <td>166187.94</td>\n",
       "    </tr>\n",
       "  </tbody>\n",
       "</table>\n",
       "</div>"
      ],
      "text/plain": [
       "   R&D Spend  Administration  Marketing Spend       State     Profit\n",
       "0  165349.20       136897.80        471784.10    New York  192261.83\n",
       "1  162597.70       151377.59        443898.53  California  191792.06\n",
       "2  153441.51       101145.55        407934.54     Florida  191050.39\n",
       "3  144372.41       118671.85        383199.62    New York  182901.99\n",
       "4  142107.34        91391.77        366168.42     Florida  166187.94"
      ]
     },
     "execution_count": 3,
     "metadata": {},
     "output_type": "execute_result"
    }
   ],
   "source": [
    "data.head()"
   ]
  },
  {
   "cell_type": "code",
   "execution_count": null,
   "metadata": {
    "colab": {},
    "colab_type": "code",
    "id": "9eOZ8bYZPBqZ"
   },
   "outputs": [],
   "source": [
    "#\n",
    "# Concept of Significance in Statistics (  Significance Level ) (p-value)\n",
    "# ====================================================================================================================\n",
    "#\n",
    "# Significance Level is a statistical terms to define the tolerance of error in your Statistical Modelling\n",
    "# or Statistical Testing. This concept is applicable for both Descriptive and Inferential Statistics.\n",
    "#\n",
    "# Ask yourself one simple question: How much error can you tolerate in your hypothesis?\n",
    "# In the world of stats, it all about approx. So technically you can never get 100% accurate result. Though you can \n",
    "# increase your bar by defining your hypothesis the level of error tolerance you defined in the deployed report/model.\n",
    "#\n",
    "# I can tolerate 1% error ----> 99% confidence\n",
    "# \n",
    "# Significance Level : 0.01  -----> 1% error tolerance ----> 99% confidence\n",
    "#                    : 0.05  -----> 5% error Tolerance ----> 95% confidence (Model)\n",
    "#                    : 0.1   -----> 10% error Tolerance ---> 90% confidence (Strategy Creation)\n",
    "#\n",
    "#   Confidence Intervals\n",
    "#   Significance Level\n"
   ]
  },
  {
   "cell_type": "markdown",
   "metadata": {
    "colab_type": "text",
    "id": "mbIo5tPePBqb"
   },
   "source": [
    "## Correlation test"
   ]
  },
  {
   "cell_type": "code",
   "execution_count": null,
   "metadata": {
    "colab": {},
    "colab_type": "code",
    "id": "Bn5df7QwPBqb"
   },
   "outputs": [],
   "source": [
    "# 50_Startups \n",
    "# Feature: R&D Spend, Admin Spend, Marketing\n",
    "# Label: Profit\n",
    "#\n",
    "# We test the relationship between each feature and label\n",
    "#\n",
    "#"
   ]
  },
  {
   "cell_type": "code",
   "execution_count": null,
   "metadata": {
    "colab": {},
    "colab_type": "code",
    "id": "DGKyvHZcPBqd"
   },
   "outputs": [],
   "source": [
    "# Question: Do R&D Spend and Profit have any linear relationship?\n",
    "# \n",
    "# Hypoythesis Testing:\n",
    "#\n",
    "# Lets assume my SL is 0.05\n",
    "#\n",
    "# Null Hypothesis:       R&D Spend and Profit doesnot have Linear Relationship : if calc_SL > assumed_SL\n",
    "# Alternate Hypothesis:  R&D Spend and Profit have Linear Relationship : if calc_SL <= assumed_SL\n",
    "#\n",
    "#\n",
    "#\n",
    "# To perform the test of above hypothesis, we shall choose any/all of the given algo\n",
    "# 1. Pearsons Correlation Coeff\n",
    "# 2. Spearmans Rank test\n",
    "# 3. Kendall's Rank test\n",
    "#\n",
    "# \n",
    "# "
   ]
  },
  {
   "cell_type": "code",
   "execution_count": null,
   "metadata": {
    "colab": {},
    "colab_type": "code",
    "id": "UKdTFvnrPBqf",
    "outputId": "f6af8668-6143-4859-af98-c2573a39d47c"
   },
   "outputs": [
    {
     "name": "stdout",
     "output_type": "stream",
     "text": [
      "Alternate Hypothesis Passed. R&D Spend and Profit have Linear Relationship\n"
     ]
    }
   ],
   "source": [
    "# 1. Pearsons Correlation Coeff\n",
    "from scipy.stats import pearsonr\n",
    "\n",
    "corr,pvalue = pearsonr(data['R&D Spend'],data['Profit'])\n",
    "\n",
    "if pvalue <= 0.05:\n",
    "    print(\"Alternate Hypothesis Passed. R&D Spend and Profit have Linear Relationship\")\n",
    "else:\n",
    "    print(\"Null Hypothesis Passed. R&D Spend and Profit doesnot have Linear Relationship\")"
   ]
  },
  {
   "cell_type": "code",
   "execution_count": null,
   "metadata": {
    "colab": {},
    "colab_type": "code",
    "id": "NHIfTxMqPBqi",
    "outputId": "b6c6e8d7-7cb7-4113-e31e-06cb1f7395f9"
   },
   "outputs": [
    {
     "data": {
      "text/plain": [
       "<matplotlib.collections.PathCollection at 0x252711ddb38>"
      ]
     },
     "execution_count": 10,
     "metadata": {
      "tags": []
     },
     "output_type": "execute_result"
    },
    {
     "data": {
      "image/png": "[encoded data removed]",
      "text/plain": [
       "<Figure size 432x288 with 1 Axes>"
      ]
     },
     "metadata": {
      "tags": []
     },
     "output_type": "display_data"
    }
   ],
   "source": [
    "#For Understanding --- Will be covered in detail next week \n",
    "import matplotlib.pyplot as plt\n",
    "%matplotlib inline\n",
    "plt.scatter(data['R&D Spend'],data['Profit'])"
   ]
  },
  {
   "cell_type": "code",
   "execution_count": null,
   "metadata": {
    "colab": {},
    "colab_type": "code",
    "id": "Qwq8_Lr7PBqk",
    "outputId": "d52f86a5-9614-43c6-91d0-fa39310ec828"
   },
   "outputs": [
    {
     "name": "stdout",
     "output_type": "stream",
     "text": [
      "Alternate Hypothesis Passed. R&D Spend and Profit have Linear Relationship\n"
     ]
    }
   ],
   "source": [
    "# 2. Spearmans Rank test\n",
    "from scipy.stats import spearmanr\n",
    "\n",
    "corr,pvalue = spearmanr(data['R&D Spend'],data['Profit'])\n",
    "\n",
    "if pvalue <= 0.05:\n",
    "    print(\"Alternate Hypothesis Passed. R&D Spend and Profit have Linear Relationship\")\n",
    "else:\n",
    "    print(\"Null Hypothesis Passed. R&D Spend and Profit doesnot have Linear Relationship\")"
   ]
  },
  {
   "cell_type": "code",
   "execution_count": null,
   "metadata": {
    "colab": {},
    "colab_type": "code",
    "id": "0Z_2xmX-PBqm",
    "outputId": "cde14e75-f15e-49e3-b657-6cdbf7f9b8bd"
   },
   "outputs": [
    {
     "name": "stdout",
     "output_type": "stream",
     "text": [
      "Alternate Hypothesis Passed. R&D Spend and Profit have Linear Relationship\n"
     ]
    }
   ],
   "source": [
    "# 3. Kendall's Rank test\n",
    "from scipy.stats import kendalltau\n",
    "\n",
    "corr,pvalue = kendalltau(data['R&D Spend'],data['Profit'])\n",
    "\n",
    "if pvalue <= 0.05:\n",
    "    print(\"Alternate Hypothesis Passed. R&D Spend and Profit have Linear Relationship\")\n",
    "else:\n",
    "    print(\"Null Hypothesis Passed. R&D Spend and Profit doesnot have Linear Relationship\")"
   ]
  },
  {
   "cell_type": "markdown",
   "metadata": {
    "colab_type": "text",
    "id": "GMrHAsRZPBqo"
   },
   "source": [
    "# Normality Test\n",
    "To test whether the given column is Gaussian Distributed(Normally Distributed) or Not"
   ]
  },
  {
   "cell_type": "code",
   "execution_count": null,
   "metadata": {
    "colab": {},
    "colab_type": "code",
    "id": "f3Nq8GXHPBqo"
   },
   "outputs": [],
   "source": [
    "# 50_Startups \n",
    "# Feature: R&D Spend, Admin Spend, Marketing\n",
    "# Label: Profit\n",
    "#\n",
    "# If R&D Spend, Admin Spend and Marketing Gaussian Distributed\n",
    "#\n",
    "#\n",
    "# Two reason:\n",
    "# 1. I know the fact that if your data is Guassian Distributed, your model will have an awesome accuracy score\n",
    "#     This helps me to decide which column requires Outlier Elimination !!!\n",
    "#\n",
    "#\n",
    "# 2. To determine which feature can be eliminated based on Feature Similarity check. The less the features, the more\n",
    "#    accuracte your model will be and less time required to train that model."
   ]
  },
  {
   "cell_type": "code",
   "execution_count": null,
   "metadata": {
    "colab": {},
    "colab_type": "code",
    "id": "HqQ9FGZkPBqq"
   },
   "outputs": [],
   "source": [
    "#\n",
    "# Question: Is R&D Spend normalized data ?\n",
    "#\n",
    "# Hypoythesis Testing:\n",
    "#\n",
    "# Lets assume my SL is 0.05\n",
    "#\n",
    "# Null Hypothesis:       R&D Spend is NOT (Guassian)Normally Distributed : if calc_SL <= assumed_SL\n",
    "# Alternate Hypothesis:  R&D Spend is (Guassian)Normally Distributed : if calc_SL > assumed_SL\n",
    "#\n",
    "#\n",
    "#\n",
    "# To perform the test of above hypothesis, we shall choose any/all of the given algo\n",
    "# 1. Shapiro Test\n",
    "# 2. Normal Test\n",
    "# "
   ]
  },
  {
   "cell_type": "code",
   "execution_count": null,
   "metadata": {
    "colab": {},
    "colab_type": "code",
    "id": "v_KKW0eWPBqs",
    "outputId": "1736a724-e1c7-420c-e260-9a80f16f1e96"
   },
   "outputs": [
    {
     "name": "stdout",
     "output_type": "stream",
     "text": [
      "Alternate Hypothesis Passed. R&D Spend is (Guassian)Normally Distributed\n"
     ]
    }
   ],
   "source": [
    "# 1. Shapiro Test\n",
    "from scipy.stats import shapiro\n",
    "stat, pvalue = shapiro(data['R&D Spend'])\n",
    "\n",
    "if pvalue > 0.05:\n",
    "    print(\"Alternate Hypothesis Passed. R&D Spend is (Guassian)Normally Distributed\")\n",
    "else:\n",
    "    print(\"Null Hypothesis Passed. R&D Spend is NOT (Guassian)Normally Distributed\")"
   ]
  },
  {
   "cell_type": "code",
   "execution_count": null,
   "metadata": {
    "colab": {},
    "colab_type": "code",
    "id": "2HsoEOd-PBqu",
    "outputId": "c44ee741-6cab-4265-b46a-13e07c62aa15"
   },
   "outputs": [
    {
     "name": "stdout",
     "output_type": "stream",
     "text": [
      "Alternate Hypothesis Passed. R&D Spend is (Guassian)Normally Distributed\n"
     ]
    }
   ],
   "source": [
    "#2. Normal Test\n",
    "from scipy.stats import normaltest\n",
    "stat, pvalue = normaltest(data['R&D Spend'])\n",
    "\n",
    "if pvalue > 0.05:\n",
    "    print(\"Alternate Hypothesis Passed. R&D Spend is (Guassian)Normally Distributed\")\n",
    "else:\n",
    "    print(\"Null Hypothesis Passed. R&D Spend is NOT (Guassian)Normally Distributed\")"
   ]
  },
  {
   "cell_type": "code",
   "execution_count": null,
   "metadata": {
    "colab": {},
    "colab_type": "code",
    "id": "EBMF-MqePBqv",
    "outputId": "390ade24-f62b-46ab-8b27-e77b9b91d649"
   },
   "outputs": [
    {
     "name": "stderr",
     "output_type": "stream",
     "text": [
      "C:\\ProgramData\\Anaconda3\\lib\\site-packages\\scipy\\stats\\stats.py:1706: FutureWarning: Using a non-tuple sequence for multidimensional indexing is deprecated; use `arr[tuple(seq)]` instead of `arr[seq]`. In the future this will be interpreted as an array index, `arr[np.array(seq)]`, which will result either in an error or a different result.\n",
      "  return np.add.reduce(sorted[indexer] * weights, axis=axis) / sumval\n",
      "C:\\ProgramData\\Anaconda3\\lib\\site-packages\\matplotlib\\axes\\_axes.py:6462: UserWarning: The 'normed' kwarg is deprecated, and has been replaced by the 'density' kwarg.\n",
      "  warnings.warn(\"The 'normed' kwarg is deprecated, and has been \"\n"
     ]
    },
    {
     "data": {
      "text/plain": [
       "<matplotlib.axes._subplots.AxesSubplot at 0x252722efe48>"
      ]
     },
     "execution_count": 17,
     "metadata": {
      "tags": []
     },
     "output_type": "execute_result"
    },
    {
     "data": {
      "image/png": "[encoded data removed]",
      "text/plain": [
       "<Figure size 432x288 with 1 Axes>"
      ]
     },
     "metadata": {
      "tags": []
     },
     "output_type": "display_data"
    }
   ],
   "source": [
    "import seaborn as sns\n",
    "sns.distplot(data['R&D Spend'])"
   ]
  },
  {
   "cell_type": "markdown",
   "metadata": {
    "colab_type": "text",
    "id": "Xqgt_-vMPBqx"
   },
   "source": [
    "# Parametric Test\n",
    "Applicable for Normally Distributed Data. Helps me to identify whether the given two FEATURE columns are Statistically Similar columns or not. If they are similar, we have a scope to eliminate one of the column"
   ]
  },
  {
   "cell_type": "code",
   "execution_count": null,
   "metadata": {
    "colab": {},
    "colab_type": "code",
    "id": "AaCLzW_rPBqx"
   },
   "outputs": [],
   "source": [
    "# 50_Startups \n",
    "# Feature: R&D Spend, Admin Spend, Marketing --- All columns are normally distributed\n",
    "# Label: Profit\n",
    "# \n",
    "# To understand do we have any scope to eliminate similar features\n",
    "#"
   ]
  },
  {
   "cell_type": "code",
   "execution_count": null,
   "metadata": {
    "colab": {},
    "colab_type": "code",
    "id": "QaPgndifPBqz"
   },
   "outputs": [],
   "source": [
    "#\n",
    "# Question: Is R&D Spend & Administration statistically similar features ?\n",
    "#\n",
    "# Hypoythesis Testing:\n",
    "#\n",
    "# Lets assume my SL is 0.05\n",
    "#\n",
    "# Null Hypothesis:       R&D Spend & Administration are NOT DIFFERENT : if calc_SL > assumed_SL\n",
    "# Alternate Hypothesis:  R&D Spend & Administration are DIFFERENT : if calc_SL <= assumed_SL\n",
    "#\n",
    "#\n",
    "#\n",
    "# To perform the test of above hypothesis, we shall choose any/all of the given algo\n",
    "# 1. Student t-test\n",
    "# 2. Paired Student t-test\n",
    "# 3. ANOVA\n"
   ]
  },
  {
   "cell_type": "code",
   "execution_count": null,
   "metadata": {
    "colab": {},
    "colab_type": "code",
    "id": "VkRPgr39PBq1",
    "outputId": "07f87f60-073e-4a3a-9c90-9b26068733df"
   },
   "outputs": [
    {
     "name": "stdout",
     "output_type": "stream",
     "text": [
      "Alternate Hypothesis passed. R&D Spend & Administration are DIFFERENT\n"
     ]
    }
   ],
   "source": [
    "# 1. Student t-test\n",
    "from scipy.stats import ttest_ind\n",
    "stats, pvalue = ttest_ind(data['R&D Spend'],data['Administration'])\n",
    "\n",
    "if pvalue <= 0.05:\n",
    "    print(\"Alternate Hypothesis passed. R&D Spend & Administration are DIFFERENT\")\n",
    "else:\n",
    "    print(\"Null hypothesis passed. R&D Spend & Administration are NOT DIFFERENT\")"
   ]
  },
  {
   "cell_type": "code",
   "execution_count": null,
   "metadata": {
    "colab": {},
    "colab_type": "code",
    "id": "6XoiN-6IPBq2",
    "outputId": "da427f4e-ddb1-4d72-ff05-79c452900e41"
   },
   "outputs": [
    {
     "name": "stdout",
     "output_type": "stream",
     "text": [
      "Alternate Hypothesis passed. R&D Spend & Administration are DIFFERENT\n"
     ]
    }
   ],
   "source": [
    "# 2. Paired Student t-test\n",
    "from scipy.stats import ttest_rel\n",
    "stats, pvalue = ttest_rel(data['R&D Spend'],data['Administration'])\n",
    "\n",
    "if pvalue <= 0.05:\n",
    "    print(\"Alternate Hypothesis passed. R&D Spend & Administration are DIFFERENT\")\n",
    "else:\n",
    "    print(\"Null hypothesis passed. R&D Spend & Administration are NOT DIFFERENT\")"
   ]
  },
  {
   "cell_type": "code",
   "execution_count": null,
   "metadata": {
    "colab": {},
    "colab_type": "code",
    "id": "vfk0TN_QPBq4",
    "outputId": "b1bf61b1-26b4-452d-a26b-75d1c5b91c5a"
   },
   "outputs": [
    {
     "name": "stdout",
     "output_type": "stream",
     "text": [
      "Alternate Hypothesis passed. R&D Spend & Administration are DIFFERENT\n"
     ]
    }
   ],
   "source": [
    "# 3. ANOVA\n",
    "from scipy.stats import f_oneway\n",
    "stats, pvalue = f_oneway(data['R&D Spend'],data['Administration'])\n",
    "\n",
    "if pvalue <= 0.05:\n",
    "    print(\"Alternate Hypothesis passed. R&D Spend & Administration are DIFFERENT\")\n",
    "else:\n",
    "    print(\"Null hypothesis passed. R&D Spend & Administration are NOT DIFFERENT\")"
   ]
  },
  {
   "cell_type": "markdown",
   "metadata": {
    "colab_type": "text",
    "id": "aOxo2naZPBq6"
   },
   "source": [
    "# Non Parametric test\n",
    "Applicable for Non-gaussian Data. Helps me to identify whether the given two FEATURE columns are Statistically Similar columns or not. If they are similar, we have a scope to eliminate one of the column"
   ]
  },
  {
   "cell_type": "code",
   "execution_count": null,
   "metadata": {
    "colab": {},
    "colab_type": "code",
    "id": "aaS923yePBq6"
   },
   "outputs": [],
   "source": [
    "# 50_Startups \n",
    "# Feature: R&D Spend, Admin Spend, Marketing --- All columns are not having normal distribution\n",
    "# Label: Profit\n",
    "# \n",
    "# To understand do we have any scope to eliminate similar features\n",
    "#"
   ]
  },
  {
   "cell_type": "code",
   "execution_count": null,
   "metadata": {
    "colab": {},
    "colab_type": "code",
    "id": "sQwJIih-PBq8"
   },
   "outputs": [],
   "source": [
    "#\n",
    "# Question: Is R&D Spend & Administration statistically similar features ?\n",
    "#\n",
    "# Hypoythesis Testing:\n",
    "#\n",
    "# Lets assume my SL is 0.05\n",
    "#\n",
    "# Null Hypothesis:       R&D Spend & Administration are NOT DIFFERENT : if calc_SL > assumed_SL\n",
    "# Alternate Hypothesis:  R&D Spend & Administration are DIFFERENT : if calc_SL <= assumed_SL\n",
    "#\n",
    "#\n",
    "#\n",
    "# To perform the test of above hypothesis, we shall choose any/all of the given algo\n",
    "# 1. Wilcoxon Test\n",
    "# 2. Mann Whitney U test\n",
    "# 3. Kruskal Wallis H test\n",
    "# 4. Friedman test\n"
   ]
  },
  {
   "cell_type": "code",
   "execution_count": null,
   "metadata": {
    "colab": {},
    "colab_type": "code",
    "id": "HDpHrW4dPBq-",
    "outputId": "5098e666-16a0-4e76-f591-807c31956057"
   },
   "outputs": [
    {
     "name": "stdout",
     "output_type": "stream",
     "text": [
      "Alternate Hypothesis passed. R&D Spend & Administration are DIFFERENT\n"
     ]
    }
   ],
   "source": [
    "# 1. Wilcoxon Test\n",
    "from scipy.stats import wilcoxon\n",
    "stats, pvalue = wilcoxon(data['R&D Spend'],data['Administration'])\n",
    "\n",
    "if pvalue <= 0.05:\n",
    "    print(\"Alternate Hypothesis passed. R&D Spend & Administration are DIFFERENT\")\n",
    "else:\n",
    "    print(\"Null hypothesis passed. R&D Spend & Administration are NOT DIFFERENT\")"
   ]
  },
  {
   "cell_type": "code",
   "execution_count": null,
   "metadata": {
    "colab": {},
    "colab_type": "code",
    "id": "N9GcNEO0PBq_",
    "outputId": "d49302dd-db14-4146-aa49-fdaff2d2c9bd"
   },
   "outputs": [
    {
     "name": "stdout",
     "output_type": "stream",
     "text": [
      "Alternate Hypothesis passed. R&D Spend & Administration are DIFFERENT\n"
     ]
    }
   ],
   "source": [
    "# 2. Mann Whitney U test\n",
    "from scipy.stats import mannwhitneyu\n",
    "stats, pvalue = mannwhitneyu(data['R&D Spend'],data['Administration'])\n",
    "\n",
    "if pvalue <= 0.05:\n",
    "    print(\"Alternate Hypothesis passed. R&D Spend & Administration are DIFFERENT\")\n",
    "else:\n",
    "    print(\"Null hypothesis passed. R&D Spend & Administration are NOT DIFFERENT\")"
   ]
  },
  {
   "cell_type": "code",
   "execution_count": null,
   "metadata": {
    "colab": {},
    "colab_type": "code",
    "id": "KA8_XFwLPBrB",
    "outputId": "702f7317-d325-451e-e698-7a398fe5de27"
   },
   "outputs": [
    {
     "name": "stdout",
     "output_type": "stream",
     "text": [
      "Alternate Hypothesis passed. R&D Spend & Administration are DIFFERENT\n"
     ]
    }
   ],
   "source": [
    "# 3. Kruskal Wallis H test\n",
    "from scipy.stats import kruskal\n",
    "stats, pvalue = kruskal(data['R&D Spend'],data['Administration'])\n",
    "\n",
    "if pvalue <= 0.05:\n",
    "    print(\"Alternate Hypothesis passed. R&D Spend & Administration are DIFFERENT\")\n",
    "else:\n",
    "    print(\"Null hypothesis passed. R&D Spend & Administration are NOT DIFFERENT\")"
   ]
  },
  {
   "cell_type": "code",
   "execution_count": null,
   "metadata": {
    "colab": {},
    "colab_type": "code",
    "id": "I_QcygMjPBrD",
    "outputId": "8352a87c-f44b-4e24-b604-9acdd8ba4dea"
   },
   "outputs": [
    {
     "name": "stdout",
     "output_type": "stream",
     "text": [
      "Alternate Hypothesis passed. R&D Spend & Administration are DIFFERENT\n"
     ]
    }
   ],
   "source": [
    "#4. Friedman test -- For more than 2 columns check\n",
    "from scipy.stats import friedmanchisquare\n",
    "stats, pvalue = friedmanchisquare(data['R&D Spend'],data['Administration'], data['Marketing Spend'])\n",
    "\n",
    "if pvalue <= 0.05:\n",
    "    print(\"Alternate Hypothesis passed. R&D Spend & Administration are DIFFERENT\")\n",
    "else:\n",
    "    print(\"Null hypothesis passed. R&D Spend & Administration are NOT DIFFERENT\")"
   ]
  },
  {
   "cell_type": "markdown",
   "metadata": {
    "colab_type": "text",
    "id": "k5DhzThbPBrF"
   },
   "source": [
    "# Chi-square Test \n",
    "Chi-square test defines whether the two variables(One Feature and One Label) have any kind of relationship or not.\n",
    "We need to use Chi-square when one of the situation arises:\n",
    "\n",
    "1. Feature (Categorical) and Label (Numerical)\n",
    "2. Feature (Numerical) and Label (Categorical)\n",
    "3. Feature (Categorical) and Label (Categorical)"
   ]
  },
  {
   "cell_type": "code",
   "execution_count": null,
   "metadata": {
    "colab": {},
    "colab_type": "code",
    "id": "i33n3ZEiPBrF"
   },
   "outputs": [],
   "source": [
    "# To implement CHi-square you need to ensure to create Contigency Table\n"
   ]
  },
  {
   "cell_type": "code",
   "execution_count": null,
   "metadata": {
    "colab": {},
    "colab_type": "code",
    "id": "4CnbbL74PBrH"
   },
   "outputs": [],
   "source": [
    "# 50_Startups \n",
    "# Feature: R&D Spend, Admin Spend, Marketing, State --- All columns are not having normal distribution\n",
    "# Label: Profit"
   ]
  },
  {
   "cell_type": "code",
   "execution_count": null,
   "metadata": {
    "colab": {},
    "colab_type": "code",
    "id": "psasPNC3PBrK"
   },
   "outputs": [],
   "source": [
    "# Question: Do State and Profit have any linear relationship?\n",
    "# \n",
    "# Hypoythesis Testing:\n",
    "#\n",
    "# Lets assume my SL is 0.05\n",
    "#\n",
    "# Null Hypothesis:       State and Profit doesnot have  Relationship : if calc_SL > assumed_SL\n",
    "# Alternate Hypothesis:  State and Profit have Relationship : if calc_SL <= assumed_SL\n",
    "#\n",
    "#\n",
    "#\n",
    "# To perform the test of above hypothesis, we shall choose any/all of the given algo\n",
    "# 1. Chi-square Test"
   ]
  },
  {
   "cell_type": "code",
   "execution_count": null,
   "metadata": {
    "colab": {},
    "colab_type": "code",
    "id": "yg4rBBUgPBrM",
    "outputId": "12f88495-aeec-4d1e-d6de-a06c3eeb7326"
   },
   "outputs": [
    {
     "data": {
      "text/html": [
       "<div>\n",
       "<style scoped>\n",
       "    .dataframe tbody tr th:only-of-type {\n",
       "        vertical-align: middle;\n",
       "    }\n",
       "\n",
       "    .dataframe tbody tr th {\n",
       "        vertical-align: top;\n",
       "    }\n",
       "\n",
       "    .dataframe thead th {\n",
       "        text-align: right;\n",
       "    }\n",
       "</style>\n",
       "<table border=\"1\" class=\"dataframe\">\n",
       "  <thead>\n",
       "    <tr style=\"text-align: right;\">\n",
       "      <th>Profit</th>\n",
       "      <th>14681.4</th>\n",
       "      <th>35673.41</th>\n",
       "      <th>42559.73</th>\n",
       "      <th>49490.75</th>\n",
       "      <th>64926.08</th>\n",
       "      <th>65200.33</th>\n",
       "      <th>69758.98</th>\n",
       "      <th>71498.49</th>\n",
       "      <th>77798.83</th>\n",
       "      <th>78239.91</th>\n",
       "      <th>...</th>\n",
       "      <th>149759.96</th>\n",
       "      <th>152211.77</th>\n",
       "      <th>155752.6</th>\n",
       "      <th>156122.51</th>\n",
       "      <th>156991.12</th>\n",
       "      <th>166187.94</th>\n",
       "      <th>182901.99</th>\n",
       "      <th>191050.39</th>\n",
       "      <th>191792.06</th>\n",
       "      <th>192261.83</th>\n",
       "    </tr>\n",
       "    <tr>\n",
       "      <th>State</th>\n",
       "      <th></th>\n",
       "      <th></th>\n",
       "      <th></th>\n",
       "      <th></th>\n",
       "      <th></th>\n",
       "      <th></th>\n",
       "      <th></th>\n",
       "      <th></th>\n",
       "      <th></th>\n",
       "      <th></th>\n",
       "      <th></th>\n",
       "      <th></th>\n",
       "      <th></th>\n",
       "      <th></th>\n",
       "      <th></th>\n",
       "      <th></th>\n",
       "      <th></th>\n",
       "      <th></th>\n",
       "      <th></th>\n",
       "      <th></th>\n",
       "      <th></th>\n",
       "    </tr>\n",
       "  </thead>\n",
       "  <tbody>\n",
       "    <tr>\n",
       "      <th>California</th>\n",
       "      <td>1</td>\n",
       "      <td>0</td>\n",
       "      <td>1</td>\n",
       "      <td>0</td>\n",
       "      <td>0</td>\n",
       "      <td>1</td>\n",
       "      <td>0</td>\n",
       "      <td>1</td>\n",
       "      <td>0</td>\n",
       "      <td>1</td>\n",
       "      <td>...</td>\n",
       "      <td>1</td>\n",
       "      <td>0</td>\n",
       "      <td>0</td>\n",
       "      <td>1</td>\n",
       "      <td>0</td>\n",
       "      <td>0</td>\n",
       "      <td>0</td>\n",
       "      <td>0</td>\n",
       "      <td>1</td>\n",
       "      <td>0</td>\n",
       "    </tr>\n",
       "    <tr>\n",
       "      <th>Florida</th>\n",
       "      <td>0</td>\n",
       "      <td>0</td>\n",
       "      <td>0</td>\n",
       "      <td>1</td>\n",
       "      <td>0</td>\n",
       "      <td>0</td>\n",
       "      <td>0</td>\n",
       "      <td>0</td>\n",
       "      <td>1</td>\n",
       "      <td>0</td>\n",
       "      <td>...</td>\n",
       "      <td>0</td>\n",
       "      <td>0</td>\n",
       "      <td>1</td>\n",
       "      <td>0</td>\n",
       "      <td>0</td>\n",
       "      <td>1</td>\n",
       "      <td>0</td>\n",
       "      <td>1</td>\n",
       "      <td>0</td>\n",
       "      <td>0</td>\n",
       "    </tr>\n",
       "    <tr>\n",
       "      <th>New York</th>\n",
       "      <td>0</td>\n",
       "      <td>1</td>\n",
       "      <td>0</td>\n",
       "      <td>0</td>\n",
       "      <td>1</td>\n",
       "      <td>0</td>\n",
       "      <td>1</td>\n",
       "      <td>0</td>\n",
       "      <td>0</td>\n",
       "      <td>0</td>\n",
       "      <td>...</td>\n",
       "      <td>0</td>\n",
       "      <td>1</td>\n",
       "      <td>0</td>\n",
       "      <td>0</td>\n",
       "      <td>1</td>\n",
       "      <td>0</td>\n",
       "      <td>1</td>\n",
       "      <td>0</td>\n",
       "      <td>0</td>\n",
       "      <td>1</td>\n",
       "    </tr>\n",
       "  </tbody>\n",
       "</table>\n",
       "<p>3 rows × 50 columns</p>\n",
       "</div>"
      ],
      "text/plain": [
       "Profit      14681.40   35673.41   42559.73   49490.75   64926.08   65200.33   \\\n",
       "State                                                                          \n",
       "California          1          0          1          0          0          1   \n",
       "Florida             0          0          0          1          0          0   \n",
       "New York            0          1          0          0          1          0   \n",
       "\n",
       "Profit      69758.98   71498.49   77798.83   78239.91     ...      149759.96  \\\n",
       "State                                                     ...                  \n",
       "California          0          1          0          1    ...              1   \n",
       "Florida             0          0          1          0    ...              0   \n",
       "New York            1          0          0          0    ...              0   \n",
       "\n",
       "Profit      152211.77  155752.60  156122.51  156991.12  166187.94  182901.99  \\\n",
       "State                                                                          \n",
       "California          0          0          1          0          0          0   \n",
       "Florida             0          1          0          0          1          0   \n",
       "New York            1          0          0          1          0          1   \n",
       "\n",
       "Profit      191050.39  191792.06  192261.83  \n",
       "State                                        \n",
       "California          0          1          0  \n",
       "Florida             1          0          0  \n",
       "New York            0          0          1  \n",
       "\n",
       "[3 rows x 50 columns]"
      ]
     },
     "execution_count": 35,
     "metadata": {
      "tags": []
     },
     "output_type": "execute_result"
    }
   ],
   "source": [
    "#Create Contigency Table for State column and profit Col\n",
    "ct = pd.crosstab(data['State'],data['Profit'])\n",
    "ct"
   ]
  },
  {
   "cell_type": "code",
   "execution_count": null,
   "metadata": {
    "colab": {},
    "colab_type": "code",
    "id": "4q3X-GuTPBrN",
    "outputId": "f0f3db0d-3925-4569-e716-89333b5abf96"
   },
   "outputs": [
    {
     "name": "stdout",
     "output_type": "stream",
     "text": [
      "Null hypothesis passed. State and Profit doesnot have  Relationship\n"
     ]
    }
   ],
   "source": [
    "from scipy.stats import chi2_contingency\n",
    "stat,pvalue,dof,expected_R = chi2_contingency(ct)\n",
    "\n",
    "if pvalue <= 0.05:\n",
    "    print(\"Alternate Hypothesis passed. State and Profit have Relationship\")\n",
    "else:\n",
    "    print(\"Null hypothesis passed. State and Profit doesnot have  Relationship\")"
   ]
  },
  {
   "cell_type": "code",
   "execution_count": null,
   "metadata": {
    "colab": {},
    "colab_type": "code",
    "id": "t_n-ipebPBrP"
   },
   "outputs": [],
   "source": []
  }
 ],
 "metadata": {
  "colab": {
   "name": "Hypothesis Testing using Statistical Test Methods.ipynb",
   "provenance": []
  },
  "kernelspec": {
   "display_name": "Python 3",
   "language": "python",
   "name": "python3"
  },
  "language_info": {
   "codemirror_mode": {
    "name": "ipython",
    "version": 3
   },
   "file_extension": ".py",
   "mimetype": "text/x-python",
   "name": "python",
   "nbconvert_exporter": "python",
   "pygments_lexer": "ipython3",
   "version": "3.7.3"
  }
 },
 "nbformat": 4,
 "nbformat_minor": 1
}
