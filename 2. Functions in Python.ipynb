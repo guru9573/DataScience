{
 "cells": [
  {
   "cell_type": "code",
   "execution_count": 0,
   "metadata": {
    "colab": {},
    "colab_type": "code",
    "id": "V5FdvcuuwDHX"
   },
   "outputs": [],
   "source": [
    "# Functions are reusable codes\n",
    "# In python there exists two functions:\n",
    "# 1. Pre-defined Functions -- len, append, print, round, format\n",
    "# 2. User-defined Functions"
   ]
  },
  {
   "cell_type": "code",
   "execution_count": 0,
   "metadata": {
    "colab": {},
    "colab_type": "code",
    "id": "pGu1UTnQwDHp",
    "outputId": "9a085cc0-d390-4131-e08d-316d84b900d0"
   },
   "outputs": [
    {
     "data": {
      "text/plain": [
       "4"
      ]
     },
     "execution_count": 2,
     "metadata": {
      "tags": []
     },
     "output_type": "execute_result"
    }
   ],
   "source": [
    "# 1. Pre-defined Functions\n",
    "list1 = [1,2,3,4]\n",
    "len(list1)"
   ]
  },
  {
   "cell_type": "code",
   "execution_count": 0,
   "metadata": {
    "colab": {},
    "colab_type": "code",
    "id": "6TtM2158wDHz"
   },
   "outputs": [],
   "source": [
    "# 2. User-defined Functions\n",
    "# You can create your own functions\n",
    "# Ideally function creation can have two variations\n",
    "# 1. Function that can print values\n",
    "# 2. Function that can return values"
   ]
  },
  {
   "cell_type": "code",
   "execution_count": 0,
   "metadata": {
    "colab": {},
    "colab_type": "code",
    "id": "0aCAbEbQwDJr"
   },
   "outputs": [],
   "source": [
    "# 1. Function that can print values\n",
    "\n",
    "def greetMe(name):\n",
    "    print(\"Welcome \",name)"
   ]
  },
  {
   "cell_type": "code",
   "execution_count": 0,
   "metadata": {
    "colab": {},
    "colab_type": "code",
    "id": "WYPDB5RjwDJ4",
    "outputId": "41ab621d-f951-48a9-c163-a5f23f6e1bcf"
   },
   "outputs": [
    {
     "name": "stdout",
     "output_type": "stream",
     "text": [
      "Welcome  Prashant Nair\n"
     ]
    }
   ],
   "source": [
    "greetMe(\"Prashant Nair\")"
   ]
  },
  {
   "cell_type": "code",
   "execution_count": 0,
   "metadata": {
    "colab": {},
    "colab_type": "code",
    "id": "rnJV8jSUwDKC"
   },
   "outputs": [],
   "source": [
    "# 2. Function that can return values\n",
    "\n",
    "def add(num1 , num2):\n",
    "    return num1 + num2"
   ]
  },
  {
   "cell_type": "code",
   "execution_count": 0,
   "metadata": {
    "colab": {},
    "colab_type": "code",
    "id": "keJsN-rhwDKH",
    "outputId": "d8878e74-43af-4ff5-a0fc-deb41065e264"
   },
   "outputs": [
    {
     "data": {
      "text/plain": [
       "5"
      ]
     },
     "execution_count": 8,
     "metadata": {
      "tags": []
     },
     "output_type": "execute_result"
    }
   ],
   "source": [
    "result = add(3,2)\n",
    "result"
   ]
  },
  {
   "cell_type": "code",
   "execution_count": 0,
   "metadata": {
    "colab": {},
    "colab_type": "code",
    "id": "-DDqOG3QwDKQ",
    "outputId": "99752310-f300-440f-e7a4-f5d0d0664f30"
   },
   "outputs": [
    {
     "data": {
      "text/plain": [
       "4"
      ]
     },
     "execution_count": 9,
     "metadata": {
      "tags": []
     },
     "output_type": "execute_result"
    }
   ],
   "source": [
    "len(list1)"
   ]
  },
  {
   "cell_type": "code",
   "execution_count": 0,
   "metadata": {
    "colab": {},
    "colab_type": "code",
    "id": "f8rAxjHywDLD"
   },
   "outputs": [],
   "source": [
    "def myLen(list1):\n",
    "    counter = 0\n",
    "    for i in list1:\n",
    "        counter += 1\n",
    "    return counter"
   ]
  },
  {
   "cell_type": "code",
   "execution_count": 0,
   "metadata": {
    "colab": {},
    "colab_type": "code",
    "id": "QquC-i8_wDLQ",
    "outputId": "f56ee452-4ef9-43d2-fc9e-e977b4d9c000"
   },
   "outputs": [
    {
     "data": {
      "text/plain": [
       "6"
      ]
     },
     "execution_count": 12,
     "metadata": {
      "tags": []
     },
     "output_type": "execute_result"
    }
   ],
   "source": [
    "list1 = [1,2,3,4,5,6]\n",
    "myLen(list1)"
   ]
  },
  {
   "cell_type": "code",
   "execution_count": 0,
   "metadata": {
    "colab": {},
    "colab_type": "code",
    "id": "yC_tp6_ZwDMB"
   },
   "outputs": [],
   "source": [
    "# Function Terminologies:\n",
    "# num1 , num2 ---> Parameters\n",
    "def add(num1 , num2):\n",
    "    return num1 + num2\n",
    "\n",
    "add(3,2) #3,2 --- arguments"
   ]
  },
  {
   "cell_type": "code",
   "execution_count": 0,
   "metadata": {
    "colab": {},
    "colab_type": "code",
    "id": "GsY78tgDwDMI"
   },
   "outputs": [],
   "source": [
    "#Parameters are defined during function creation\n",
    "#Arguments are defined during function usage\n",
    "\n",
    "# You can create a function that can hold default argument in the parameter\n",
    "\n",
    "def add(num1 = 0 ,num2 = 0):\n",
    "    return num1 + num2\n"
   ]
  },
  {
   "cell_type": "code",
   "execution_count": 0,
   "metadata": {
    "colab": {},
    "colab_type": "code",
    "id": "o1F-FWtqwDMY",
    "outputId": "d8420681-6552-4788-c8ba-138862fbcce3"
   },
   "outputs": [
    {
     "data": {
      "text/plain": [
       "3"
      ]
     },
     "execution_count": 26,
     "metadata": {
      "tags": []
     },
     "output_type": "execute_result"
    }
   ],
   "source": [
    "add(3)"
   ]
  },
  {
   "cell_type": "code",
   "execution_count": 0,
   "metadata": {
    "colab": {},
    "colab_type": "code",
    "id": "ZkxpOS7LwDMi"
   },
   "outputs": [],
   "source": [
    "#You can create a documentation of a function"
   ]
  },
  {
   "cell_type": "code",
   "execution_count": 0,
   "metadata": {
    "colab": {},
    "colab_type": "code",
    "id": "10RgtHAVwDNM"
   },
   "outputs": [],
   "source": [
    "def add(num1 = 0 ,num2 = 0):\n",
    "    '''\n",
    "    Author: Prashant Nair\n",
    "    Usage: add(num1,num2)\n",
    "            where num1 -- can be any number\n",
    "                  num2 -- can be any number\n",
    "                  \n",
    "    Examples:\n",
    "            add(3,2)  returns 5\n",
    "    '''\n",
    "    return num1 + num2"
   ]
  },
  {
   "cell_type": "code",
   "execution_count": 0,
   "metadata": {
    "colab": {},
    "colab_type": "code",
    "id": "VDPFLYbCwDNR"
   },
   "outputs": [],
   "source": [
    "?add"
   ]
  },
  {
   "cell_type": "code",
   "execution_count": 0,
   "metadata": {
    "colab": {},
    "colab_type": "code",
    "id": "I8uphqVQwDOA"
   },
   "outputs": [],
   "source": []
  }
 ],
 "metadata": {
  "colab": {
   "name": "2. Functions in Python.ipynb",
   "provenance": []
  },
  "kernelspec": {
   "display_name": "Python 3",
   "language": "python",
   "name": "python3"
  },
  "language_info": {
   "codemirror_mode": {
    "name": "ipython",
    "version": 3
   },
   "file_extension": ".py",
   "mimetype": "text/x-python",
   "name": "python",
   "nbconvert_exporter": "python",
   "pygments_lexer": "ipython3",
   "version": "3.7.3"
  }
 },
 "nbformat": 4,
 "nbformat_minor": 1
}
