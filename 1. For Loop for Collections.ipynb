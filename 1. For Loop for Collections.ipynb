{
 "cells": [
  {
   "cell_type": "code",
   "execution_count": 0,
   "metadata": {
    "colab": {},
    "colab_type": "code",
    "id": "OA7oq-LFwDQb",
    "outputId": "11071e52-754b-4669-e5e5-53cf2ebe0741"
   },
   "outputs": [
    {
     "name": "stdout",
     "output_type": "stream",
     "text": [
      "Hello \n",
      "My name is Prashant\n"
     ]
    }
   ],
   "source": [
    "data = \"Hello \\nMy name is Prashant\"\n",
    "print(data)"
   ]
  },
  {
   "cell_type": "code",
   "execution_count": 0,
   "metadata": {
    "colab": {},
    "colab_type": "code",
    "id": "_jPnJi6qwDQm"
   },
   "outputs": [],
   "source": [
    "#Loops -- Its all about re-iterating the statement multiple times subject to condition\n",
    "#For loop --- To traverse and perform operation on a collection object !!!"
   ]
  },
  {
   "cell_type": "code",
   "execution_count": 0,
   "metadata": {
    "colab": {},
    "colab_type": "code",
    "id": "Iqo7wAYTwDQx",
    "outputId": "a0150304-3e56-484f-80b2-817b5d42a94c"
   },
   "outputs": [
    {
     "data": {
      "text/plain": [
       "[1, 2, 3, 4, 5, 6, 7, 8, 9]"
      ]
     },
     "execution_count": 6,
     "metadata": {
      "tags": []
     },
     "output_type": "execute_result"
    }
   ],
   "source": [
    "# Range function in python - Allows users to create a range of values and store the same in the form \n",
    "# of collection\n",
    "\n",
    "#range(start_value, upper_bound_value) \n",
    "# Where\n",
    "# upper_bound_value = endvalue + 1\n",
    "\n",
    "list(range(1,10)) "
   ]
  },
  {
   "cell_type": "code",
   "execution_count": 0,
   "metadata": {
    "colab": {},
    "colab_type": "code",
    "id": "DC9ETaBjwDRS",
    "outputId": "da3d2571-8aac-46e5-911f-9f5383478511"
   },
   "outputs": [
    {
     "data": {
      "text/plain": [
       "[10, 11, 12, 13, 14, 15, 16, 17, 18, 19, 20]"
      ]
     },
     "execution_count": 7,
     "metadata": {
      "tags": []
     },
     "output_type": "execute_result"
    }
   ],
   "source": [
    "list(range(10,21)) "
   ]
  },
  {
   "cell_type": "code",
   "execution_count": 0,
   "metadata": {
    "colab": {},
    "colab_type": "code",
    "id": "chotw6yuwDRa",
    "outputId": "0970dd37-dedb-49c1-fe1b-827f2150f4dd"
   },
   "outputs": [
    {
     "data": {
      "text/plain": [
       "[1, 2, 3, 4, 5, 6, 7, 8, 9, 10]"
      ]
     },
     "execution_count": 11,
     "metadata": {
      "tags": []
     },
     "output_type": "execute_result"
    }
   ],
   "source": [
    "collectionObject = list(range(1,11)) \n",
    "collectionObject"
   ]
  },
  {
   "cell_type": "code",
   "execution_count": 0,
   "metadata": {
    "colab": {},
    "colab_type": "code",
    "id": "dWxQWbqFwDRn",
    "outputId": "818e389e-c7cf-4bfe-e451-9142a07be08c"
   },
   "outputs": [
    {
     "name": "stdout",
     "output_type": "stream",
     "text": [
      "1\n",
      "2\n",
      "3\n",
      "4\n",
      "5\n",
      "6\n",
      "7\n",
      "8\n",
      "9\n",
      "10\n"
     ]
    }
   ],
   "source": [
    "#How to access each element in the collection\n",
    "for tempVariable in collectionObject:\n",
    "    print(tempVariable) #Printing"
   ]
  },
  {
   "cell_type": "code",
   "execution_count": 0,
   "metadata": {
    "colab": {},
    "colab_type": "code",
    "id": "ZL55YC1YwDRw",
    "outputId": "11e7721e-5a44-487a-9cc6-91173c4dc36e"
   },
   "outputs": [
    {
     "name": "stdout",
     "output_type": "stream",
     "text": [
      "2\n",
      "3\n",
      "4\n",
      "5\n",
      "6\n",
      "7\n",
      "8\n",
      "9\n",
      "10\n",
      "11\n"
     ]
    }
   ],
   "source": [
    "#Adding 1 to each number\n",
    "for tempVariable in collectionObject:\n",
    "    print(tempVariable + 1)"
   ]
  },
  {
   "cell_type": "code",
   "execution_count": 0,
   "metadata": {
    "colab": {},
    "colab_type": "code",
    "id": "ALTNgK6IwDR6",
    "outputId": "9b5b2601-83a2-4455-b505-0d69e5ef0c33"
   },
   "outputs": [
    {
     "name": "stdout",
     "output_type": "stream",
     "text": [
      "2\n",
      "4\n",
      "6\n",
      "8\n",
      "10\n"
     ]
    }
   ],
   "source": [
    "#Extract only even numbers from the list\n",
    "for num in collectionObject:\n",
    "    if num % 2 == 0:\n",
    "        print(num)"
   ]
  },
  {
   "cell_type": "code",
   "execution_count": 0,
   "metadata": {
    "colab": {},
    "colab_type": "code",
    "id": "vBUWK8hxwDSo"
   },
   "outputs": [],
   "source": [
    "#Extract only even numbers from the list\n",
    "resultList = [] #empty list\n",
    "for num in collectionObject:\n",
    "    if num % 2 == 0:\n",
    "        resultList.append(num)"
   ]
  },
  {
   "cell_type": "code",
   "execution_count": 0,
   "metadata": {
    "colab": {},
    "colab_type": "code",
    "id": "1z9VRvwswDSt",
    "outputId": "0bb67f5a-1adf-483d-8b5e-295fa69f8591"
   },
   "outputs": [
    {
     "data": {
      "text/plain": [
       "[2, 4, 6, 8, 10]"
      ]
     },
     "execution_count": 15,
     "metadata": {
      "tags": []
     },
     "output_type": "execute_result"
    }
   ],
   "source": [
    "resultList"
   ]
  },
  {
   "cell_type": "code",
   "execution_count": 0,
   "metadata": {
    "colab": {},
    "colab_type": "code",
    "id": "CWdDJh7awDSz"
   },
   "outputs": [],
   "source": [
    "#Extract only even & odd numbers from the list\n",
    "evenList = [] #empty list\n",
    "oddList = []\n",
    "for num in collectionObject:\n",
    "    if num % 2 == 0:\n",
    "        evenList.append(num)\n",
    "    else:\n",
    "        oddList.append(num)"
   ]
  },
  {
   "cell_type": "code",
   "execution_count": 0,
   "metadata": {
    "colab": {},
    "colab_type": "code",
    "id": "uekuhWGRwDS6",
    "outputId": "704de119-f53e-4f8d-b0da-a03000c3f463"
   },
   "outputs": [
    {
     "name": "stdout",
     "output_type": "stream",
     "text": [
      "[2, 4, 6, 8, 10]\n",
      "[1, 3, 5, 7, 9]\n"
     ]
    }
   ],
   "source": [
    "print(evenList)\n",
    "print(oddList)"
   ]
  },
  {
   "cell_type": "code",
   "execution_count": 0,
   "metadata": {
    "colab": {},
    "colab_type": "code",
    "id": "vODt_Hb-wDS_",
    "outputId": "6e1d622a-29fc-4187-e028-076484a23ed6"
   },
   "outputs": [
    {
     "data": {
      "text/plain": [
       "[1200.0, 2200.0, 3300.0000000000005, 4400.0, 5000]"
      ]
     },
     "execution_count": 25,
     "metadata": {
      "tags": []
     },
     "output_type": "execute_result"
    }
   ],
   "source": [
    "# Question\n",
    "\n",
    "salaryList = [1000,2000,3000,4000,5000]\n",
    "\n",
    "#Increment the salary of the employee based on the following condition\n",
    "# if income is less than 2000 --> 20% hike\n",
    "# if the income is between 2000 and 4000 --> 10% hike\n",
    "# if the income is greater than 4000 ---> No hike\n",
    "\n",
    "updatedSalary= []\n",
    "\n",
    "for sal in salaryList:\n",
    "    if sal < 2000:\n",
    "        updatedSalary.append(sal * 1.2)\n",
    "    elif sal <= 4000:\n",
    "        updatedSalary.append(sal * 1.1)\n",
    "    else:\n",
    "        updatedSalary.append(sal)\n",
    "\n",
    "updatedSalary"
   ]
  },
  {
   "cell_type": "code",
   "execution_count": 0,
   "metadata": {
    "colab": {},
    "colab_type": "code",
    "id": "NOr9wBbEwDTS",
    "outputId": "a100dbb9-bd45-49d5-e268-a9d820518e3c"
   },
   "outputs": [
    {
     "name": "stdout",
     "output_type": "stream",
     "text": [
      "$ 1200.00\n",
      "$ 2200.00\n",
      "$ 3300.00\n",
      "$ 4400.00\n",
      "$ 5000.00\n"
     ]
    }
   ],
   "source": [
    "for i in updatedSalary:\n",
    "    #print(\"$ \",round(i))\n",
    "    print(\"$ {0:.2f}\".format(i))"
   ]
  },
  {
   "cell_type": "code",
   "execution_count": 0,
   "metadata": {
    "colab": {},
    "colab_type": "code",
    "id": "ues3piWCwDUs",
    "outputId": "4f194d26-2cba-42ac-a8ba-1cf4452411f4"
   },
   "outputs": [
    {
     "data": {
      "text/plain": [
       "[1200.0, 2200.0, 3300.0000000000005, 4400.0, 5000]"
      ]
     },
     "execution_count": 33,
     "metadata": {
      "tags": []
     },
     "output_type": "execute_result"
    }
   ],
   "source": [
    "# Question\n",
    "\n",
    "salaryList = [1000,2000,3000,4000,5000]\n",
    "\n",
    "#Increment the salary of the employee based on the following condition\n",
    "# if income is less than 2000 --> 20% hike\n",
    "# if the income is between 2000 and 4000 --> 10% hike\n",
    "# if the income is greater than 4000 ---> No hike\n",
    "\n",
    "#updatedSalary= []\n",
    "i = 0\n",
    "for sal in salaryList:\n",
    "    if sal < 2000:\n",
    "        salaryList[i] = sal * 1.2\n",
    "    elif sal <= 4000:\n",
    "        salaryList[i] = sal * 1.1\n",
    "    else:\n",
    "        salaryList[i] = sal\n",
    "    i = i+1\n",
    "    \n",
    "salaryList"
   ]
  },
  {
   "cell_type": "code",
   "execution_count": 0,
   "metadata": {
    "colab": {},
    "colab_type": "code",
    "id": "APyGW9EewDVR"
   },
   "outputs": [],
   "source": []
  }
 ],
 "metadata": {
  "colab": {
   "name": "1. For Loop for Collections.ipynb",
   "provenance": []
  },
  "kernelspec": {
   "display_name": "Python 3",
   "language": "python",
   "name": "python3"
  },
  "language_info": {
   "codemirror_mode": {
    "name": "ipython",
    "version": 3
   },
   "file_extension": ".py",
   "mimetype": "text/x-python",
   "name": "python",
   "nbconvert_exporter": "python",
   "pygments_lexer": "ipython3",
   "version": "3.7.3"
  }
 },
 "nbformat": 4,
 "nbformat_minor": 1
}
